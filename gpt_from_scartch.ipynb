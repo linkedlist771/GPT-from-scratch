{
 "cells": [
  {
   "cell_type": "code",
   "execution_count": 1,
   "metadata": {},
   "outputs": [
    {
     "name": "stdout",
     "output_type": "stream",
     "text": [
      "--2024-06-08 19:30:07--  https://raw.githubusercontent.com/karpathy/char-rnn/master/data/tinyshakespeare/input.txt\n",
      "Connecting to 127.0.0.1:10810... connected.\n",
      "Proxy request sent, awaiting response... 200 OK\n",
      "Length: 1115394 (1.1M) [text/plain]\n",
      "Saving to: ‘input.txt’\n",
      "\n",
      "input.txt           100%[===================>]   1.06M  3.20MB/s    in 0.3s    \n",
      "\n",
      "2024-06-08 19:30:08 (3.20 MB/s) - ‘input.txt’ saved [1115394/1115394]\n",
      "\n"
     ]
    }
   ],
   "source": [
    "!wget https://raw.githubusercontent.com/karpathy/char-rnn/master/data/tinyshakespeare/input.txt"
   ]
  },
  {
   "cell_type": "code",
   "execution_count": null,
   "metadata": {},
   "outputs": [],
   "source": []
  },
  {
   "cell_type": "code",
   "execution_count": 1,
   "metadata": {},
   "outputs": [],
   "source": [
    "import pathlib\n",
    "text = pathlib.Path(\"input.txt\").read_text(encoding=\"utf-8\")"
   ]
  },
  {
   "cell_type": "code",
   "execution_count": 2,
   "metadata": {},
   "outputs": [
    {
     "data": {
      "text/plain": [
       "1115394"
      ]
     },
     "execution_count": 2,
     "metadata": {},
     "output_type": "execute_result"
    }
   ],
   "source": [
    "len(text)"
   ]
  },
  {
   "cell_type": "code",
   "execution_count": 3,
   "metadata": {},
   "outputs": [],
   "source": [
    "chars = sorted(list(set(text)))"
   ]
  },
  {
   "cell_type": "code",
   "execution_count": 4,
   "metadata": {},
   "outputs": [],
   "source": [
    "vocab_size = len(chars)"
   ]
  },
  {
   "cell_type": "code",
   "execution_count": 5,
   "metadata": {},
   "outputs": [],
   "source": [
    "token2id = {ch: i for i, ch in enumerate(chars)}\n",
    "id2token = {i: ch for i, ch in enumerate(chars)}\n",
    "\n",
    "def encode(input: str):\n",
    "    return [token2id[ch] for ch in input]\n",
    "\n",
    "def decode(input_tokens: list[int]):\n",
    "    return \"\".join([id2token[i] for i in input_tokens])"
   ]
  },
  {
   "cell_type": "code",
   "execution_count": 6,
   "metadata": {},
   "outputs": [
    {
     "data": {
      "text/plain": [
       "[20, 47, 6, 1, 58, 46, 43, 56, 43]"
      ]
     },
     "execution_count": 6,
     "metadata": {},
     "output_type": "execute_result"
    }
   ],
   "source": [
    "encode(\"Hi, there\")"
   ]
  },
  {
   "cell_type": "code",
   "execution_count": 7,
   "metadata": {},
   "outputs": [
    {
     "data": {
      "text/plain": [
       "'Hi, there'"
      ]
     },
     "execution_count": 7,
     "metadata": {},
     "output_type": "execute_result"
    }
   ],
   "source": [
    "decode([20, 47, 6, 1, 58, 46, 43, 56, 43])"
   ]
  },
  {
   "cell_type": "code",
   "execution_count": 8,
   "metadata": {},
   "outputs": [],
   "source": [
    "import torch"
   ]
  },
  {
   "cell_type": "code",
   "execution_count": 9,
   "metadata": {},
   "outputs": [
    {
     "data": {
      "text/plain": [
       "torch.Size([1115394])"
      ]
     },
     "execution_count": 9,
     "metadata": {},
     "output_type": "execute_result"
    }
   ],
   "source": [
    "data = torch.tensor(encode(text), dtype=torch.long)\n",
    "\n",
    "data.shape"
   ]
  },
  {
   "cell_type": "code",
   "execution_count": 10,
   "metadata": {},
   "outputs": [
    {
     "data": {
      "text/plain": [
       "tensor([18, 47, 56, 57, 58,  1, 15, 47, 58, 47])"
      ]
     },
     "execution_count": 10,
     "metadata": {},
     "output_type": "execute_result"
    }
   ],
   "source": [
    "data[:10]"
   ]
  },
  {
   "cell_type": "code",
   "execution_count": 12,
   "metadata": {},
   "outputs": [],
   "source": [
    "train_size = int( vocab_size * 0.9)\n",
    "train_data = data[:train_size]\n",
    "val_data = data[train_size:]"
   ]
  },
  {
   "cell_type": "code",
   "execution_count": 13,
   "metadata": {},
   "outputs": [],
   "source": [
    "block_size = 8"
   ]
  },
  {
   "cell_type": "code",
   "execution_count": 18,
   "metadata": {},
   "outputs": [],
   "source": [
    "x = train_data[:block_size]\n",
    "y = train_data[1:block_size+1]"
   ]
  },
  {
   "cell_type": "code",
   "execution_count": 19,
   "metadata": {},
   "outputs": [
    {
     "name": "stdout",
     "output_type": "stream",
     "text": [
      "inputs:\n",
      "torch.Size([4, 8])\n",
      "tensor([[14, 43, 44, 53, 56, 43,  1, 61],\n",
      "        [47, 58, 47, 64, 43, 52, 10,  0],\n",
      "        [43, 56,  6,  1, 46, 43, 39, 56],\n",
      "        [18, 47, 56, 57, 58,  1, 15, 47]])\n",
      "targets:\n",
      "torch.Size([4, 8])\n",
      "tensor([[43, 44, 53, 56, 43,  1, 61, 43],\n",
      "        [58, 47, 64, 43, 52, 10,  0, 14],\n",
      "        [56,  6,  1, 46, 43, 39, 56,  1],\n",
      "        [47, 56, 57, 58,  1, 15, 47, 58]])\n",
      "-----\n",
      "when input is [14] the target: 43\n",
      "when input is [14, 43] the target: 44\n",
      "when input is [14, 43, 44] the target: 53\n",
      "when input is [14, 43, 44, 53] the target: 56\n",
      "when input is [14, 43, 44, 53, 56] the target: 43\n",
      "when input is [14, 43, 44, 53, 56, 43] the target: 1\n",
      "when input is [14, 43, 44, 53, 56, 43, 1] the target: 61\n",
      "when input is [14, 43, 44, 53, 56, 43, 1, 61] the target: 43\n",
      "when input is [47] the target: 58\n",
      "when input is [47, 58] the target: 47\n",
      "when input is [47, 58, 47] the target: 64\n",
      "when input is [47, 58, 47, 64] the target: 43\n",
      "when input is [47, 58, 47, 64, 43] the target: 52\n",
      "when input is [47, 58, 47, 64, 43, 52] the target: 10\n",
      "when input is [47, 58, 47, 64, 43, 52, 10] the target: 0\n",
      "when input is [47, 58, 47, 64, 43, 52, 10, 0] the target: 14\n",
      "when input is [43] the target: 56\n",
      "when input is [43, 56] the target: 6\n",
      "when input is [43, 56, 6] the target: 1\n",
      "when input is [43, 56, 6, 1] the target: 46\n",
      "when input is [43, 56, 6, 1, 46] the target: 43\n",
      "when input is [43, 56, 6, 1, 46, 43] the target: 39\n",
      "when input is [43, 56, 6, 1, 46, 43, 39] the target: 56\n",
      "when input is [43, 56, 6, 1, 46, 43, 39, 56] the target: 1\n",
      "when input is [18] the target: 47\n",
      "when input is [18, 47] the target: 56\n",
      "when input is [18, 47, 56] the target: 57\n",
      "when input is [18, 47, 56, 57] the target: 58\n",
      "when input is [18, 47, 56, 57, 58] the target: 1\n",
      "when input is [18, 47, 56, 57, 58, 1] the target: 15\n",
      "when input is [18, 47, 56, 57, 58, 1, 15] the target: 47\n",
      "when input is [18, 47, 56, 57, 58, 1, 15, 47] the target: 58\n"
     ]
    }
   ],
   "source": [
    "torch.manual_seed(1337)\n",
    "batch_size = 4  # how many independent sequences will we process in parallel?\n",
    "block_size = 8  # what is the maximum context length for predictions?\n",
    "\n",
    "def get_batch(split):\n",
    "    # generate a small batch of data of inputs x and targets y\n",
    "    data = train_data if split == 'train' else val_data\n",
    "    ix = torch.randint(len(data) - block_size, (batch_size,))\n",
    "    x = torch.stack([data[i:i+block_size] for i in ix])\n",
    "    y = torch.stack([data[i+1:i+block_size+1] for i in ix])\n",
    "    return x, y\n",
    "\n",
    "xb, yb = get_batch('train')\n",
    "print('inputs:')\n",
    "print(xb.shape)\n",
    "print(xb)\n",
    "print('targets:')\n",
    "print(yb.shape)\n",
    "print(yb)\n",
    "\n",
    "print('-----')\n",
    "\n",
    "for b in range(batch_size):  # batch dimension\n",
    "    for t in range(block_size):  # time dimension\n",
    "        context = xb[b, :t+1]\n",
    "        target = yb[b, t]\n",
    "        print(f'when input is {context.tolist()} the target: {target}')\n"
   ]
  },
  {
   "cell_type": "code",
   "execution_count": 25,
   "metadata": {},
   "outputs": [
    {
     "data": {
      "text/plain": [
       "(torch.Size([32, 65]), tensor(4.8675, grad_fn=<NllLossBackward0>))"
      ]
     },
     "execution_count": 25,
     "metadata": {},
     "output_type": "execute_result"
    }
   ],
   "source": [
    "import torch\n",
    "import torch.nn as nn\n",
    "from torch.nn import functional as F\n",
    "torch.manual_seed(1337)\n",
    "\n",
    "class BigramLanguageModel(nn.Module):\n",
    "    def __init__(self, vocab_size):\n",
    "        super().__init__()\n",
    "        # each token directly reads off the logits for the next token from a lookup table\n",
    "        self.token_embedding_table = nn.Embedding(vocab_size, vocab_size)\n",
    "\n",
    "    def forward(self, idx, targets=None):\n",
    "        # idx and targets are both (B,T) tensor of integers\n",
    "        logits = self.token_embedding_table(idx)  # (B,T,C) this is the predicted token of the nex tokens\n",
    "\n",
    "        if targets is None:\n",
    "            loss = None\n",
    "        else:\n",
    "            B, T, C = logits.shape\n",
    "    \n",
    "            logits = logits.view(B * T, C)\n",
    "    \n",
    "            \n",
    "            targets = targets.view( B * T)\n",
    "    \n",
    "            loss = F.cross_entropy(logits, targets)\n",
    "    \n",
    "            \n",
    "\n",
    "        \n",
    "        return logits, loss\n",
    "    def generate(self, idx, max_new_tokens):\n",
    "        # idx 是当前上下文中的索引数组，形状为 (B, T)\n",
    "        for _ in range(max_new_tokens):\n",
    "            # 获取预测值\n",
    "            logits, loss = self(idx)\n",
    "            # 只关注最后一个时间步的结果\n",
    "            logits = logits[:, -1, :]  # 变成形状 (B, C)\n",
    "            # 应用 softmax 得到概率\n",
    "            probs = F.softmax(logits, dim=-1)  # 形状为 (B, C)\n",
    "            # 从概率分布中采样\n",
    "            idx_next = torch.multinomial(probs, num_samples=1)  # 形状为 (B, 1)\n",
    "            # 将采样的索引附加到正在运行的序列中\n",
    "            idx = torch.cat((idx, idx_next), dim=1)  # 变成形状 (B, T+1)\n",
    "        return idx\n",
    "\n",
    "\n",
    "m = BigramLanguageModel(vocab_size)\n",
    "logits, loss = m(xb, yb)\n",
    "logits.shape, loss"
   ]
  },
  {
   "cell_type": "code",
   "execution_count": 26,
   "metadata": {},
   "outputs": [
    {
     "name": "stdout",
     "output_type": "stream",
     "text": [
      "\n",
      "Sr?qP-QWktXoL&jLDJgOLVz'RIoDqHdhsV&vLLxatjscMpwLERSPyao.qfzs$Ys$zF-w,;eEkzxjgCKFChs!iWW.ObzDnxA Ms$3\n"
     ]
    }
   ],
   "source": [
    "idx = torch.zeros((1,1), dtype=torch.long)\n",
    "print(decode(m.generate(idx, max_new_tokens=100)[0].tolist()))\n"
   ]
  },
  {
   "cell_type": "code",
   "execution_count": 27,
   "metadata": {},
   "outputs": [],
   "source": [
    "# create a PyTorch optimizer\n",
    "optimizer = torch.optim.AdamW(m.parameters(), lr=1e-3)"
   ]
  },
  {
   "cell_type": "code",
   "execution_count": 32,
   "metadata": {},
   "outputs": [
    {
     "name": "stderr",
     "output_type": "stream",
     "text": [
      "Training Progress: 100%|███████████████████████████████████████████████████████████████████| 10000/10000 [00:29<00:00, 337.74it/s, loss=1]\n"
     ]
    }
   ],
   "source": [
    "from tqdm import tqdm\n",
    "\n",
    "batch_size = 32\n",
    "num_steps = 10000\n",
    "\n",
    "# 初始化 tqdm 进度条\n",
    "progress_bar = tqdm(range(num_steps), desc=\"Training Progress\")\n",
    "\n",
    "for step in progress_bar:\n",
    "    # sample a batch of data\n",
    "    xb, yb = get_batch('train')\n",
    "    \n",
    "    # evaluate the loss\n",
    "    logits, loss = m(xb, yb)\n",
    "    optimizer.zero_grad(set_to_none=True)\n",
    "    loss.backward()\n",
    "    optimizer.step()\n",
    "    \n",
    "    # 更新 tqdm 进度条的后缀信息\n",
    "    progress_bar.set_postfix(loss=loss.item())\n"
   ]
  },
  {
   "cell_type": "code",
   "execution_count": 33,
   "metadata": {},
   "outputs": [
    {
     "name": "stdout",
     "output_type": "stream",
     "text": [
      "\n",
      "Befoce foce mean:\n",
      "Beny heny he!Cititititheny we mefoced we wear, pbMzed we Cithen:\n",
      "Befure mere we meny me Citizeed mD3:\n",
      "Ben:\n",
      "Ber, heny for we f?$gocefoize weeeny mered fur any wer, foced we Cized spr, we wen:\n",
      "Bearoceny wefur Citithefureefoce he hean:\n",
      "Be Cithe heny for fur spean:\n",
      "Bereny proce pr, wee heny an:\n",
      "Be ar an:\n",
      "Bee fur arororean:\n",
      "Bearefuroce pr, he foceroce pr he we focer, wefur, any Citize heny Cize any weny foce we he Cizeean:\n",
      "Befororoce hed wear pror foror any fureertir, pr hed st furo\n"
     ]
    }
   ],
   "source": [
    "print(decode(m.generate(idx, max_new_tokens=500)[0].tolist()))"
   ]
  },
  {
   "cell_type": "code",
   "execution_count": null,
   "metadata": {},
   "outputs": [],
   "source": []
  },
  {
   "cell_type": "code",
   "execution_count": 24,
   "metadata": {},
   "outputs": [],
   "source": [
    "import tiktoken\n",
    "encoder = tiktoken.get_encoding(\"o200k_base\")"
   ]
  },
  {
   "cell_type": "code",
   "execution_count": 25,
   "metadata": {},
   "outputs": [
    {
     "data": {
      "text/plain": [
       "200019"
      ]
     },
     "execution_count": 25,
     "metadata": {},
     "output_type": "execute_result"
    }
   ],
   "source": [
    "encoder.n_vocab"
   ]
  },
  {
   "cell_type": "code",
   "execution_count": 26,
   "metadata": {},
   "outputs": [
    {
     "data": {
      "text/plain": [
       "[12194, 11, 1354]"
      ]
     },
     "execution_count": 26,
     "metadata": {},
     "output_type": "execute_result"
    }
   ],
   "source": [
    "encoder.encode(\"Hi, there\")"
   ]
  },
  {
   "cell_type": "code",
   "execution_count": 30,
   "metadata": {},
   "outputs": [
    {
     "data": {
      "text/plain": [
       "'Hi, there'"
      ]
     },
     "execution_count": 30,
     "metadata": {},
     "output_type": "execute_result"
    }
   ],
   "source": [
    "encoder.decode([12194, 11, 1354])"
   ]
  },
  {
   "cell_type": "code",
   "execution_count": null,
   "metadata": {},
   "outputs": [],
   "source": []
  }
 ],
 "metadata": {
  "kernelspec": {
   "display_name": "Python 3 (ipykernel)",
   "language": "python",
   "name": "python3"
  },
  "language_info": {
   "codemirror_mode": {
    "name": "ipython",
    "version": 3
   },
   "file_extension": ".py",
   "mimetype": "text/x-python",
   "name": "python",
   "nbconvert_exporter": "python",
   "pygments_lexer": "ipython3",
   "version": "3.9.17"
  }
 },
 "nbformat": 4,
 "nbformat_minor": 4
}
